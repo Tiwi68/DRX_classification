{
 "cells": [
  {
   "cell_type": "markdown",
   "metadata": {},
   "source": [
    "# X-ray diffraction pattern segmentation on 44Mn steel"
   ]
  },
  {
   "cell_type": "markdown",
   "metadata": {},
   "source": [
    "### Scientific Background"
   ]
  },
  {
   "cell_type": "markdown",
   "metadata": {},
   "source": [
    "Microalloyed steel (as many other types of steel and iron) has a ferritic crystal structure at low temperatures and an austenitic structure at high temperatures. The exact point can vary with the composition. If we now penetrate a specimen with X-Rays, the rays diffracted by the material form distinct circular patterns on a detector depending on the crystal structure. Conversely, the structure can be determined from the measured patterns.\n",
    "For a high-temperature deformation experiment, a specimen was heated from 20 C to 1300 C, deformed and cooled back to 20 C. Diffraction patterns were acquired throughout the experiment and we need to determine the crystal structure for each to investigate at which temperature changes occur and if the deformation has any effect."
   ]
  },
  {
   "cell_type": "markdown",
   "metadata": {},
   "source": [
    "### Why Machine Learning?"
   ]
  },
  {
   "cell_type": "markdown",
   "metadata": {},
   "source": [
    "The dataset contains 20 experiments with around 24000 images each, amounting to around one Terabyte of 2D image data. Instead of manually classifying them, we can use simple convolutional neural networks and train them on a small set of 50 images, reducing the prediction time to 25 min in total."
   ]
  },
  {
   "cell_type": "markdown",
   "metadata": {},
   "source": [
    "### Data format and preparation"
   ]
  },
  {
   "cell_type": "markdown",
   "metadata": {},
   "source": [
    "Per crystal structure, austenite and ferrite, 25 diffraction images were moved into respective folders for training and validation.\n",
    "\n",
    "Data format of tomograms: 32b float greyscale cbf images, 1679 x 1475 pixel\n",
    "\n",
    "Example of an austenitic pattern:"
   ]
  },
  {
   "cell_type": "markdown",
   "metadata": {},
   "source": [
    "<img src=\"https://raw.githubusercontent.com/Tiwi68/DRX_classification/main/44Mn_S6_t1_04360_scaled.jpg\" width=\"369\" height=\"420\">"
   ]
  },
  {
   "cell_type": "markdown",
   "metadata": {},
   "source": [
    "### Set up"
   ]
  },
  {
   "cell_type": "markdown",
   "metadata": {},
   "source": [
    "Import dependencies:"
   ]
  },
  {
   "cell_type": "code",
   "execution_count": 18,
   "metadata": {},
   "outputs": [],
   "source": [
    "import tensorflow as tf\n",
    "import numpy as np\n",
    "import fabio\n",
    "import os\n",
    "import sys\n",
    "import sklearn\n",
    "import pandas as pd\n",
    "from PIL import Image\n",
    "from datetime import datetime\n",
    "import matplotlib.pyplot as plt\n",
    "\n",
    "#save standard output device, as it is switched later. The cbf import library FabIO is persistently verbose.\n",
    "old_stdout = sys.stdout"
   ]
  },
  {
   "cell_type": "markdown",
   "metadata": {},
   "source": [
    "### Generator"
   ]
  },
  {
   "cell_type": "markdown",
   "metadata": {},
   "source": [
    "This generator feeds single images to the model. The inputs are the directories of both training image classes, the image size to shrink to and an option to shuffle the input images.\n",
    "CBF files are loaded using FabIO, which permanently verbalises its activities. The print output is hence temporarily directed to a null device every time FabIO runs.\n",
    "\n",
    "To get one probability value per class, the binary label is one-hot encoded."
   ]
  },
  {
   "cell_type": "code",
   "execution_count": 2,
   "metadata": {},
   "outputs": [],
   "source": [
    "def cbf_generator(class_0_dir, class_1_dir, image_size, shuffle=False):\n",
    "    \n",
    "    # create array of filenames and classes derived from their directory\n",
    "    filenames = np.array(os.listdir(class_0_dir) + os.listdir(class_1_dir))\n",
    "    labels = np.zeros(len(filenames)).astype('int')\n",
    "    labels[len(os.listdir(class_0_dir)):] = 1\n",
    "    \n",
    "    # shuffle filename-class pairs if required\n",
    "    if shuffle == True:\n",
    "        filenames, labels = sklearn.utils.shuffle(filenames, labels)\n",
    "        \n",
    "    #repeat file load and processing infinitely to keep up data supply for all epochs\n",
    "    while True:\n",
    "        for filename, label in zip(filenames, labels):\n",
    "            \n",
    "            # concatenate full file path depending on class\n",
    "            if label == 0:\n",
    "                path = class_0_dir + '/' + filename  \n",
    "            elif label == 1:\n",
    "                path = class_1_dir + '/' + filename\n",
    "            \n",
    "            #silence fabio output\n",
    "            sys.stdout = open(os.devnull, \"w\")\n",
    "            \n",
    "            # open file\n",
    "            with fabio.open(path) as cbffile:\n",
    "                image = Image.fromarray(cbffile.data)\n",
    "                \n",
    "                #enable output again\n",
    "                sys.stdout = old_stdout\n",
    "                \n",
    "                #resize image, convert to array, normalise and add dimension\n",
    "                image = np.asarray(image.resize((image_size, image_size),\n",
    "                                                 Image.NEAREST)).astype('float32')\n",
    "                \n",
    "                #standardise greyscale values and expand dimensions by 1 for greyscale channel\n",
    "                image = (image - np.mean(image))/np.std(image)\n",
    "                image = np.expand_dims(np.expand_dims(image, -1), 0)\n",
    "                \n",
    "                # one-hot encode the classes\n",
    "                label_cat = tf.keras.utils.to_categorical(label, 2)\n",
    "                \n",
    "                yield image, np.asarray([label_cat])\n",
    "            \n",
    "            #enable output again - doing it only once is not reliable\n",
    "            sys.stdout = old_stdout\n",
    "        sys.stdout = old_stdout\n",
    "    sys.stdout = old_stdout"
   ]
  },
  {
   "cell_type": "markdown",
   "metadata": {},
   "source": [
    "### Model"
   ]
  },
  {
   "cell_type": "markdown",
   "metadata": {},
   "source": [
    "Set up hyperparameters and generators for training and validation. A learning rate of 0.00001 was found to perform well by previously testing the model on various rates."
   ]
  },
  {
   "cell_type": "code",
   "execution_count": 3,
   "metadata": {},
   "outputs": [],
   "source": [
    "image_size = 512 # shrink images to this size\n",
    "learning_rate = 0.00001\n",
    "epochs = 7\n",
    "\n",
    "train_files = len(\n",
    "    os.listdir('C:/Users/Tim/Desktop/diffclass/cbf_train/ferrite')) + len(\n",
    "        os.listdir('C:/Users/Tim/Desktop/diffclass/cbf_train/austenite'))\n",
    "val_files = len(\n",
    "    os.listdir('C:/Users/Tim/Desktop/diffclass/cbf_val/ferrite')) + len(\n",
    "        os.listdir('C:/Users/Tim/Desktop/diffclass/cbf_val/austenite'))\n",
    "        \n",
    "train_gen = cbf_generator(\n",
    "        'C:/Users/Tim/Desktop/diffclass/cbf_train/ferrite',\n",
    "        'C:/Users/Tim/Desktop/diffclass/cbf_train/austenite',\n",
    "        image_size=image_size,\n",
    "        shuffle = True)\n",
    "\n",
    "val_gen = cbf_generator(\n",
    "        'C:/Users/Tim/Desktop/diffclass/cbf_val/ferrite',\n",
    "        'C:/Users/Tim/Desktop/diffclass/cbf_val/austenite',\n",
    "        image_size=image_size)"
   ]
  },
  {
   "cell_type": "markdown",
   "metadata": {},
   "source": [
    "Define the model using the Keras functional API (a sequential model would have done). Three convolution levels are sufficient before feeding the weights into a two-node dense layer, again to get one probability value per class. Separable convolutions seem to speed the training up."
   ]
  },
  {
   "cell_type": "code",
   "execution_count": 4,
   "metadata": {},
   "outputs": [],
   "source": [
    "tf.keras.backend.clear_session()\n",
    "\n",
    "inputs = tf.keras.Input(shape=(image_size, image_size, 1))\n",
    "x = inputs\n",
    "\n",
    "x = tf.keras.layers.SeparableConv2D(16, 3, padding='same')(x)\n",
    "x = tf.keras.layers.Activation('relu')(x)\n",
    "\n",
    "x = tf.keras.layers.MaxPooling2D(3, strides=2, padding='same')(x)\n",
    "\n",
    "x = tf.keras.layers.SeparableConv2D(32, 3, padding='same')(x)\n",
    "x = tf.keras.layers.Activation('relu')(x)\n",
    "x = tf.keras.layers.Dropout(0.2)(x)\n",
    "x = tf.keras.layers.BatchNormalization()(x)\n",
    "\n",
    "x = tf.keras.layers.MaxPooling2D(3, strides=2, padding='same')(x)\n",
    "\n",
    "x = tf.keras.layers.SeparableConv2D(64, 3, padding='same')(x)\n",
    "x = tf.keras.layers.Activation('relu')(x)\n",
    "\n",
    "x = tf.keras.layers.Flatten()(x)\n",
    "\n",
    "# Output layer with classification\n",
    "outputs = tf.keras.layers.Dense(2, activation='softmax')(x)\n",
    "\n",
    "#instantiate model\n",
    "model = tf.keras.Model(inputs, outputs)"
   ]
  },
  {
   "cell_type": "markdown",
   "metadata": {},
   "source": [
    "Select optimiser and compile model for categorical classification, as I want one probability value per class as output."
   ]
  },
  {
   "cell_type": "code",
   "execution_count": 5,
   "metadata": {},
   "outputs": [
    {
     "name": "stdout",
     "output_type": "stream",
     "text": [
      "learning rate 1e-05\n",
      "fitting model\n"
     ]
    }
   ],
   "source": [
    "opt = tf.keras.optimizers.RMSprop(learning_rate=learning_rate)\n",
    "\n",
    "model.compile(optimizer=opt, loss='categorical_crossentropy',\n",
    "              metrics=(['accuracy']))\n",
    "\n",
    "print('learning rate', learning_rate)\n",
    "print('fitting model')"
   ]
  },
  {
   "cell_type": "markdown",
   "metadata": {},
   "source": [
    "Train the model, save the final result and gather the training metrics in a dictionary. No intermediate weights are saved as training is fast."
   ]
  },
  {
   "cell_type": "code",
   "execution_count": 8,
   "metadata": {},
   "outputs": [
    {
     "name": "stdout",
     "output_type": "stream",
     "text": [
      "Epoch 1/7\n",
      "WARNING:tensorflow:Callbacks method `on_train_batch_end` is slow compared to the batch time (batch time: 0.0090s vs `on_train_batch_end` time: 0.0160s). Check your callbacks.\n"
     ]
    },
    {
     "name": "stderr",
     "output_type": "stream",
     "text": [
      "WARNING:tensorflow:Callbacks method `on_train_batch_end` is slow compared to the batch time (batch time: 0.0090s vs `on_train_batch_end` time: 0.0160s). Check your callbacks.\n"
     ]
    },
    {
     "name": "stdout",
     "output_type": "stream",
     "text": [
      "59/59 - 2s - loss: 0.0000e+00 - accuracy: 1.0000 - val_loss: 5.8218e-08 - val_accuracy: 1.0000\n",
      "Epoch 2/7\n",
      "59/59 - 2s - loss: 0.0000e+00 - accuracy: 1.0000 - val_loss: 5.2674e-08 - val_accuracy: 1.0000\n",
      "Epoch 3/7\n",
      "59/59 - 2s - loss: 0.0000e+00 - accuracy: 1.0000 - val_loss: 4.9902e-08 - val_accuracy: 1.0000\n",
      "Epoch 4/7\n",
      "59/59 - 2s - loss: 0.0000e+00 - accuracy: 1.0000 - val_loss: 4.7129e-08 - val_accuracy: 1.0000\n",
      "Epoch 5/7\n",
      "59/59 - 2s - loss: 0.0000e+00 - accuracy: 1.0000 - val_loss: 3.8812e-08 - val_accuracy: 1.0000\n",
      "Epoch 6/7\n",
      "59/59 - 2s - loss: 0.0000e+00 - accuracy: 1.0000 - val_loss: 3.6040e-08 - val_accuracy: 1.0000\n",
      "Epoch 7/7\n",
      "59/59 - 2s - loss: 0.0000e+00 - accuracy: 1.0000 - val_loss: 3.3268e-08 - val_accuracy: 1.0000\n"
     ]
    }
   ],
   "source": [
    "history = model.fit(train_gen, steps_per_epoch=train_files, epochs=epochs,\n",
    "                    validation_data=val_gen, validation_steps=val_files,\n",
    "                    shuffle=False, verbose=2)\n",
    "\n",
    "model.save('best_class_model.h5')\n",
    "\n",
    "#gather metrics\n",
    "metrics_dict = {'learning rate': learning_rate,\n",
    "                'train_loss': history.history['loss'],\n",
    "                'val_loss': history.history['val_loss'],\n",
    "                'train_accuracy': history.history['accuracy'],\n",
    "                'val_accuracy': history.history['val_accuracy']}\n"
   ]
  },
  {
   "cell_type": "markdown",
   "metadata": {},
   "source": [
    "Plot the training history:"
   ]
  },
  {
   "cell_type": "code",
   "execution_count": 9,
   "metadata": {},
   "outputs": [
    {
     "data": {
      "text/plain": [
       "<matplotlib.legend.Legend at 0x29e002ac8b0>"
      ]
     },
     "execution_count": 9,
     "metadata": {},
     "output_type": "execute_result"
    },
    {
     "data": {
      "image/png": "[encoded data removed]",
      "text/plain": [
       "<Figure size 432x288 with 1 Axes>"
      ]
     },
     "metadata": {
      "needs_background": "light"
     },
     "output_type": "display_data"
    },
    {
     "data": {
      "image/png": "[encoded data removed]",
      "text/plain": [
       "<Figure size 432x288 with 1 Axes>"
      ]
     },
     "metadata": {
      "needs_background": "light"
     },
     "output_type": "display_data"
    }
   ],
   "source": [
    "plt.plot(range(len(history.history['loss'])), history.history['loss'],\n",
    "         'bo', label='training loss')\n",
    "plt.plot(range(len(history.history['loss'])), history.history['val_loss'],\n",
    "         'b', label='validation loss')\n",
    "plt.legend()\n",
    "plt.figure()\n",
    "plt.plot(range(len(history.history['accuracy'])), history.history['accuracy'],\n",
    "         'ro', label='training accuracy')\n",
    "plt.plot(range(len(history.history['accuracy'])), history.history['val_accuracy'],\n",
    "         'r', label='validation accuracy')\n",
    "plt.legend()"
   ]
  },
  {
   "cell_type": "markdown",
   "metadata": {},
   "source": [
    "#### It looks like the model is overkill for the task, we immediately hit accuracy = 1 on the small validation dataset. I am considering a simpler model, e.g. kNN or SVM."
   ]
  },
  {
   "cell_type": "markdown",
   "metadata": {},
   "source": [
    "### Prediction"
   ]
  },
  {
   "cell_type": "markdown",
   "metadata": {},
   "source": [
    "Set up a generator similar to above predicting all patterns in a folder, e.g. for one experiment. The option of subsampling filenames can accelerate the output."
   ]
  },
  {
   "cell_type": "code",
   "execution_count": 13,
   "metadata": {},
   "outputs": [],
   "source": [
    "#%% predict\n",
    "\n",
    "#subsampling: pick every n-th file\n",
    "n = 1\n",
    "\n",
    "def pred_generator(directory, image_size):\n",
    "    \n",
    "    filenames = np.array(os.listdir(directory))\n",
    "    \n",
    "    #repeat infinitely to keep up data supply for all epochs\n",
    "    for filename in filenames[::n]:\n",
    "        \n",
    "        path = directory + '/' + filename\n",
    "        #print(path) #if desired\n",
    "        \n",
    "        #silence fabio output\n",
    "        sys.stdout = open(os.devnull, \"w\")\n",
    "        with fabio.open(path) as cbffile:\n",
    "            image = Image.fromarray(cbffile.data)\n",
    "            #enable output again\n",
    "            sys.stdout = old_stdout\n",
    "            \n",
    "            #resize image, convert to array, normalise and add dimension\n",
    "            image = np.asarray(image.resize((image_size, image_size),\n",
    "                                             Image.NEAREST)).astype('float32')\n",
    "            image = (image - np.mean(image))/np.std(image)\n",
    "            image = np.expand_dims(np.expand_dims(image, -1), 0)\n",
    "            \n",
    "            yield image\n",
    "        \n",
    "        #enable output again\n",
    "        sys.stdout = old_stdout\n",
    "    sys.stdout = old_stdout\n"
   ]
  },
  {
   "cell_type": "markdown",
   "metadata": {},
   "source": [
    "Run and print predictions:"
   ]
  },
  {
   "cell_type": "code",
   "execution_count": 19,
   "metadata": {},
   "outputs": [
    {
     "name": "stdout",
     "output_type": "stream",
     "text": [
      "2021-01-22 16:34:33.981442\n",
      "[[1.0000000e+00 2.4377240e-09]\n",
      " [1.0000000e+00 2.4072200e-09]\n",
      " [1.0000000e+00 2.4469711e-09]\n",
      " ...\n",
      " [6.3039279e-01 3.6960724e-01]\n",
      " [5.7924509e-01 4.2075488e-01]\n",
      " [7.0099807e-01 2.9900193e-01]]\n",
      "2021-01-22 16:35:47.193788\n"
     ]
    }
   ],
   "source": [
    "pred_gen = pred_generator(\n",
    "    'C:/Users/Tim/Desktop/diffclass/44Mn_S6',\n",
    "    image_size=image_size)\n",
    "\n",
    "print(datetime.now())\n",
    "prediction = model.predict(pred_gen)\n",
    "print(prediction)\n",
    "print(datetime.now())"
   ]
  },
  {
   "cell_type": "markdown",
   "metadata": {},
   "source": [
    "Classifying all 24000 images of this experiment takes only 1 minute and 13 seconds."
   ]
  },
  {
   "cell_type": "markdown",
   "metadata": {},
   "source": [
    "Temperatures and timestamps measured by a separate device need to be aligned with the images."
   ]
  },
  {
   "cell_type": "code",
   "execution_count": 16,
   "metadata": {},
   "outputs": [],
   "source": [
    "# Temperature measurment and imaging were started a few seconds apart and need to be zeroised\n",
    "timeshift = 143.1605 - 133.892\n",
    "\n",
    "#load temperature log with timestamps into dataframe\n",
    "templog_path = 'E:/mg23749-1/processing/MG23749_ETMT_Logs/HSSF_44Mn_S6_Trial1/44Mn_S6_t1_ETMT_log.xlsx'\n",
    "templog = pd.read_excel(templog_path, sheet_name='Test1.steps.tracking',\n",
    "                        header=0, usecols = 'A,M')\n",
    "templog = templog.rename(columns={'Total Time (s)': 'time',\n",
    "                        'User-Defined(Temperature:Temperature) (C)': 'temp C'})#.sort_values('time')\n",
    "\n",
    "#align temperature timestamps to imaging timestamps\n",
    "templog['time'] = templog['time'] - timeshift\n",
    "\n",
    "#load imaging log with timestamps into dataframe\n",
    "imglog_path = 'E:/mg23749-1/rawdata/44Mn_S6_trial1_0.006Acq_0.003Exp_2019_12_05-230520/pilatus_00001.log'\n",
    "imglog = pd.read_csv(imglog_path, sep='\\t', header=None, skiprows=1, usecols=[5, 6])\n",
    "imglog = imglog.dropna(axis=0)\n",
    "imglog = imglog.rename(columns={5: 'filename', 6: 'time'})#.sort_values('time')\n",
    "\n",
    "#merge temperature and imaging logs on the nearest time values\n",
    "bothlog = pd.merge_asof(imglog, templog, on='time') #retaining imglog numbering\n",
    "bothlog = bothlog.dropna(axis=0)\n",
    "bothlog['filenr'] = bothlog['filename'].str[-9:-4]\n",
    "\n",
    "#get list of predicted file numbers from filenames\n",
    "filenames = np.array(os.listdir('C:/Users/Tim/Desktop/diffclass/44Mn_S6'))\n",
    "filenumbers = []\n",
    "for filename in filenames[::n]:\n",
    "    filenumbers.append(''.join(list(filename)[-9:-4]))\n",
    "filenumbers = pd.DataFrame(filenumbers).rename(columns={0: 'filenr'})\n",
    "\n",
    "#merge filenumbers with both logs to get full dataset\n",
    "fn_logs_merged=filenumbers.merge(bothlog, on='filenr', how='left')"
   ]
  },
  {
   "cell_type": "markdown",
   "metadata": {},
   "source": [
    "Plot the ratio of ferrite, austenite and the temperature versus the elapsed experimental time:"
   ]
  },
  {
   "cell_type": "code",
   "execution_count": 17,
   "metadata": {},
   "outputs": [
    {
     "data": {
      "image/png": "[encoded data removed]",
      "text/plain": [
       "<Figure size 432x288 with 2 Axes>"
      ]
     },
     "metadata": {
      "needs_background": "light"
     },
     "output_type": "display_data"
    }
   ],
   "source": [
    "fig, ax1 = plt.subplots()\n",
    "\n",
    "ax1.set_xlabel('time (s)')\n",
    "ax1.set_ylabel('Volume fraction', color='b')\n",
    "plt.plot(fn_logs_merged['time'], prediction[:,0],\n",
    "         'r', label='Ferrite')\n",
    "plt.plot(fn_logs_merged['time'], prediction[:,1],\n",
    "         'b', label='Austenite')\n",
    "plt.legend()\n",
    "ax1.tick_params(axis='y', labelcolor='b')\n",
    "\n",
    "ax2 = ax1.twinx()  # instantiate a second axes that shares the same x-axis\n",
    "ax2.set_ylabel('Temperature (C)', color='k')  # we already handled the x-label with ax1\n",
    "plt.plot(fn_logs_merged['time'][:-260], fn_logs_merged['temp C'][:-260],\n",
    "         'k', label='T (C)')\n",
    "ax2.tick_params(axis='y', labelcolor='k')\n",
    "\n",
    "fig.tight_layout()  # otherwise the right y-label is slightly clipped\n",
    "plt.show()\n"
   ]
  },
  {
   "cell_type": "markdown",
   "metadata": {},
   "source": [
    "At low temperatures we see pure ferrite, at high temperatures pure austenite. The phase change temperature can be found on the right scale as the point where crystal structures and temperature cross, at about 750 C. It is also evident that the deformation, during the flat temperature range on the top right, does not affect the crystal structure."
   ]
  }
 ],
 "metadata": {
  "kernelspec": {
   "display_name": "Python 3",
   "language": "python",
   "name": "python3"
  },
  "language_info": {
   "codemirror_mode": {
    "name": "ipython",
    "version": 3
   },
   "file_extension": ".py",
   "mimetype": "text/x-python",
   "name": "python",
   "nbconvert_exporter": "python",
   "pygments_lexer": "ipython3",
   "version": "3.8.0"
  }
 },
 "nbformat": 4,
 "nbformat_minor": 4
}
